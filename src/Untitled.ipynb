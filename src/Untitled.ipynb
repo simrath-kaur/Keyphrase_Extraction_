{
 "cells": [
  {
   "cell_type": "code",
   "execution_count": 1,
   "id": "9bc7174a-4805-4506-8415-74e6cefa7571",
   "metadata": {},
   "outputs": [
    {
     "name": "stderr",
     "output_type": "stream",
     "text": [
      "2024-04-24 01:05:22.043842: I tensorflow/core/util/port.cc:113] oneDNN custom operations are on. You may see slightly different numerical results due to floating-point round-off errors from different computation orders. To turn them off, set the environment variable `TF_ENABLE_ONEDNN_OPTS=0`.\n",
      "2024-04-24 01:05:23.346855: I tensorflow/core/util/port.cc:113] oneDNN custom operations are on. You may see slightly different numerical results due to floating-point round-off errors from different computation orders. To turn them off, set the environment variable `TF_ENABLE_ONEDNN_OPTS=0`.\n",
      "Traceback (most recent call last):\n",
      "  File \"C:\\Users\\Simrath\\Desktop\\TransformerSum-master\\src\\summarization.py\", line 17, in <module>\n",
      "    model = ExtractiveSummarizer.load_from_checkpoint(\"models\\\\epoch=3.ckpt\")\n",
      "            ^^^^^^^^^^^^^^^^^^^^^^^^^^^^^^^^^^^^^^^^^^^^^^^^^^^^^^^^^^^^^^^^^\n",
      "  File \"C:\\Users\\Simrath\\AppData\\Local\\Programs\\Python\\Python312\\Lib\\site-packages\\pytorch_lightning\\utilities\\model_helpers.py\", line 125, in wrapper\n",
      "    return self.method(cls, *args, **kwargs)\n",
      "           ^^^^^^^^^^^^^^^^^^^^^^^^^^^^^^^^^\n",
      "  File \"C:\\Users\\Simrath\\AppData\\Local\\Programs\\Python\\Python312\\Lib\\site-packages\\pytorch_lightning\\core\\module.py\", line 1581, in load_from_checkpoint\n",
      "    loaded = _load_from_checkpoint(\n",
      "             ^^^^^^^^^^^^^^^^^^^^^^\n",
      "  File \"C:\\Users\\Simrath\\AppData\\Local\\Programs\\Python\\Python312\\Lib\\site-packages\\pytorch_lightning\\core\\saving.py\", line 66, in _load_from_checkpoint\n",
      "    checkpoint = _pl_migrate_checkpoint(\n",
      "                 ^^^^^^^^^^^^^^^^^^^^^^^\n",
      "  File \"C:\\Users\\Simrath\\AppData\\Local\\Programs\\Python\\Python312\\Lib\\site-packages\\pytorch_lightning\\utilities\\migration\\utils.py\", line 143, in _pl_migrate_checkpoint\n",
      "    old_version = _get_version(checkpoint)\n",
      "                  ^^^^^^^^^^^^^^^^^^^^^^^^\n",
      "  File \"C:\\Users\\Simrath\\AppData\\Local\\Programs\\Python\\Python312\\Lib\\site-packages\\pytorch_lightning\\utilities\\migration\\utils.py\", line 164, in _get_version\n",
      "    return checkpoint[\"pytorch-lightning_version\"]\n",
      "           ~~~~~~~~~~^^^^^^^^^^^^^^^^^^^^^^^^^^^^^\n",
      "KeyError: 'pytorch-lightning_version'\n"
     ]
    }
   ],
   "source": [
    "!python summarization.py"
   ]
  },
  {
   "cell_type": "code",
   "execution_count": null,
   "id": "d7066602-033d-4d7e-bb97-35ff34330218",
   "metadata": {},
   "outputs": [],
   "source": [
    "!conda install pytorch-lightning\n"
   ]
  },
  {
   "cell_type": "code",
   "execution_count": 3,
   "id": "2f1df01b",
   "metadata": {},
   "outputs": [
    {
     "name": "stdout",
     "output_type": "stream",
     "text": [
      "Name: transformersNote: you may need to restart the kernel to use updated packages.\n",
      "\n",
      "Version: 4.39.3\n",
      "Summary: State-of-the-art Machine Learning for JAX, PyTorch and TensorFlow\n",
      "Home-page: https://github.com/huggingface/transformers\n",
      "Author: The Hugging Face team (past and future) with the help of all our contributors (https://github.com/huggingface/transformers/graphs/contributors)\n",
      "Author-email: transformers@huggingface.co\n",
      "License: Apache 2.0 License\n",
      "Location: C:\\Users\\Simrath\\AppData\\Local\\Programs\\Python\\Python312\\Lib\\site-packages\n",
      "Requires: filelock, huggingface-hub, numpy, packaging, pyyaml, regex, requests, safetensors, tokenizers, tqdm\n",
      "Required-by: sentence-transformers\n"
     ]
    }
   ],
   "source": [
    "pip show transformers"
   ]
  },
  {
   "cell_type": "code",
   "execution_count": null,
   "id": "fa6c5e99-f50a-4af3-b800-df633c5c1b42",
   "metadata": {},
   "outputs": [],
   "source": []
  }
 ],
 "metadata": {
  "kernelspec": {
   "display_name": "Python 3 (ipykernel)",
   "language": "python",
   "name": "python3"
  },
  "language_info": {
   "codemirror_mode": {
    "name": "ipython",
    "version": 3
   },
   "file_extension": ".py",
   "mimetype": "text/x-python",
   "name": "python",
   "nbconvert_exporter": "python",
   "pygments_lexer": "ipython3",
   "version": "3.12.0"
  }
 },
 "nbformat": 4,
 "nbformat_minor": 5
}
