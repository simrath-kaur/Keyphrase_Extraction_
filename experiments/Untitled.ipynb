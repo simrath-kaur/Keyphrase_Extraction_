{
 "cells": [
  {
   "cell_type": "code",
   "execution_count": 2,
   "id": "c246ad36-c705-415c-806b-2f7946fbff3c",
   "metadata": {},
   "outputs": [
    {
     "name": "stderr",
     "output_type": "stream",
     "text": [
      "C:\\Users\\Simrath\\AppData\\Local\\Programs\\Python\\Python312\\Lib\\site-packages\\pytorch_lightning\\utilities\\migration\\migration.py:208: You have multiple `ModelCheckpoint` callback states in this checkpoint, but we found state keys that would end up colliding with each other after an upgrade, which means we can't differentiate which of your checkpoint callbacks needs which states. At least one of your `ModelCheckpoint` callbacks will not be able to reload the state.\n",
      "Lightning automatically upgraded your loaded checkpoint from v0.8.1 to v2.2.1. To apply the upgrade to your files permanently, run `python -m pytorch_lightning.utilities.upgrade_checkpoint C:\\Users\\Simrath\\Desktop\\transformersum\\models\\epoch=3_modified.ckpt`\n"
     ]
    }
   ],
   "source": [
    "from summarize_text import summarize_text"
   ]
  },
  {
   "cell_type": "code",
   "execution_count": 3,
   "id": "455b976e-b85e-43f5-9e2b-b31e6dce9f1b",
   "metadata": {},
   "outputs": [],
   "source": [
    "file = 'datasets\\\\input.json'  # TEST data to evaluate the final model\n"
   ]
  },
  {
   "cell_type": "code",
   "execution_count": 7,
   "id": "9b34327a-1da4-4c96-b771-d85e887eb233",
   "metadata": {},
   "outputs": [
    {
     "name": "stdout",
     "output_type": "stream",
     "text": [
      "                                               title  \\\n",
      "0  Keyphrase Extraction from Computer  Science Re...   \n",
      "\n",
      "                                            abstract  \\\n",
      "0  This project aims to improve how we find and u...   \n",
      "\n",
      "                                            fulltext  \n",
      "0  Natural Language Processing \\nAI 829 \\nMANDATE...  \n"
     ]
    },
    {
     "name": "stderr",
     "output_type": "stream",
     "text": [
      "100%|████████████████████████████████████████████████████████████████████████████████████| 1/1 [00:01<00:00,  1.32s/it]\n",
      "C:\\Users\\Simrath\\Desktop\\transformersum\\summarize_text.py:246: SettingWithCopyWarning: \n",
      "A value is trying to be set on a copy of a slice from a DataFrame\n",
      "\n",
      "See the caveats in the documentation: https://pandas.pydata.org/pandas-docs/stable/user_guide/indexing.html#returning-a-view-versus-a-copy\n",
      "  data['abstract'].iat[index] = title_abstract_summary\n"
     ]
    }
   ],
   "source": [
    "keyphrases=summarize_text('input.json')"
   ]
  },
  {
   "cell_type": "code",
   "execution_count": 8,
   "id": "1e11b54d-f3b5-405a-8dd3-187e72273b0f",
   "metadata": {},
   "outputs": [
    {
     "name": "stdout",
     "output_type": "stream",
     "text": [
      "[['keyphrase', 'extraction'], ['technical', 'documents'], ['information'], ['extractive', 'summarization'], ['research', 'papers'], ['article'], ['project'], ['simrath', 'kaur'], ['summarization', 'techniques'], ['keyphrases'], ['computer']]\n"
     ]
    }
   ],
   "source": [
    "print(keyphrases)"
   ]
  },
  {
   "cell_type": "code",
   "execution_count": null,
   "id": "517fffc6-43d8-4412-a394-b25ea92f1251",
   "metadata": {},
   "outputs": [],
   "source": [
    "python app.py"
   ]
  }
 ],
 "metadata": {
  "kernelspec": {
   "display_name": "Python 3 (ipykernel)",
   "language": "python",
   "name": "python3"
  },
  "language_info": {
   "codemirror_mode": {
    "name": "ipython",
    "version": 3
   },
   "file_extension": ".py",
   "mimetype": "text/x-python",
   "name": "python",
   "nbconvert_exporter": "python",
   "pygments_lexer": "ipython3",
   "version": "3.12.0"
  }
 },
 "nbformat": 4,
 "nbformat_minor": 5
}
